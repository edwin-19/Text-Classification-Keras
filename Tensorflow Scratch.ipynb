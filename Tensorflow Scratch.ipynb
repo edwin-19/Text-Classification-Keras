{
 "cells": [
  {
   "cell_type": "code",
   "execution_count": 18,
   "id": "stupid-table",
   "metadata": {},
   "outputs": [],
   "source": [
    "import tensorflow as tf\n",
    "import tensorflow_datasets as tfds\n",
    "from matplotlib import pyplot as plt"
   ]
  },
  {
   "cell_type": "code",
   "execution_count": 2,
   "id": "adapted-composition",
   "metadata": {},
   "outputs": [],
   "source": [
    "(train_ds, test_ds), ds_info = tfds.load(\n",
    "    'mnist', split=['train' , 'test'], as_supervised=True, with_info=True,\n",
    "    data_dir='data/'\n",
    ")"
   ]
  },
  {
   "cell_type": "code",
   "execution_count": 3,
   "id": "stock-interaction",
   "metadata": {},
   "outputs": [],
   "source": [
    "glorot_init = tf.initializers.GlorotUniform()\n",
    "zeros = tf.initializers.Zeros()"
   ]
  },
  {
   "cell_type": "code",
   "execution_count": 4,
   "id": "alone-deadline",
   "metadata": {},
   "outputs": [],
   "source": [
    "@tf.function\n",
    "def dense(features, weights, biases):\n",
    "    return tf.add(tf.matmul(features, weights), biases)"
   ]
  },
  {
   "cell_type": "code",
   "execution_count": 5,
   "id": "unexpected-denver",
   "metadata": {},
   "outputs": [],
   "source": [
    "@tf.function\n",
    "def norm_data(image, label):\n",
    "    image = tf.cast(image, tf.float32)\n",
    "    image = image / 255.\n",
    "    image = tf.squeeze(image, axis=2)\n",
    "    return image, tf.one_hot(label, 10)\n",
    "\n",
    "train_ds = train_ds.shuffle(len(train_ds)).map(norm_data, num_parallel_calls=tf.data.experimental.AUTOTUNE).batch(64).prefetch(tf.data.experimental.AUTOTUNE)\n",
    "# test_ds = test_ds.map(norm_data, num_parallel_calls=tf.data.experimental.AUTOTUNE).batch(1).prefetch(tf.data.experimental.AUTOTUNE)"
   ]
  },
  {
   "cell_type": "code",
   "execution_count": 6,
   "id": "favorite-stack",
   "metadata": {},
   "outputs": [],
   "source": [
    "@tf.function\n",
    "def loss_fn(logits, labels):\n",
    "    return tf.reduce_mean(\n",
    "        tf.nn.softmax_cross_entropy_with_logits(\n",
    "            labels=labels, logits=logits\n",
    "        )\n",
    "    )"
   ]
  },
  {
   "cell_type": "code",
   "execution_count": 7,
   "id": "forward-flour",
   "metadata": {},
   "outputs": [],
   "source": [
    "flatten = tf.keras.layers.Flatten()"
   ]
  },
  {
   "cell_type": "code",
   "execution_count": 8,
   "id": "weird-recommendation",
   "metadata": {},
   "outputs": [],
   "source": [
    "n_inputs = (784, 10)\n",
    "n_classes = 10\n",
    "\n",
    "weights = tf.Variable(glorot_init(shape=n_inputs), name='weights')\n",
    "biases = tf.Variable(zeros(n_classes), name='biases')"
   ]
  },
  {
   "cell_type": "code",
   "execution_count": 9,
   "id": "dynamic-wonder",
   "metadata": {},
   "outputs": [],
   "source": [
    "optimizer = tf.keras.optimizers.SGD(learning_rate=1e-4)"
   ]
  },
  {
   "cell_type": "code",
   "execution_count": 10,
   "id": "perceived-destiny",
   "metadata": {},
   "outputs": [],
   "source": [
    "total_loss = []\n",
    "for epoch in range(10):\n",
    "    avg_loss = 0\n",
    "    for step, (train_image, train_label) in enumerate(train_ds):\n",
    "        with tf.GradientTape() as tape:\n",
    "            flatten_train_image = flatten(train_image)\n",
    "            logits = dense(flatten_train_image, weights, biases) # Forward pass\n",
    "            loss = loss_fn(logits, train_label)\n",
    "    \n",
    "        grads = tape.gradient(loss, [weights, biases])\n",
    "        optimizer.apply_gradients(zip(grads, [weights, biases]))\n",
    "        avg_loss += loss\n",
    "        total_loss.append(avg_loss)\n",
    "        \n",
    "#     print(tf.convert_to_tensor(total_loss) / len(train_ds))"
   ]
  },
  {
   "cell_type": "code",
   "execution_count": 11,
   "id": "utility-kazakhstan",
   "metadata": {},
   "outputs": [],
   "source": [
    "image, label = next(iter(test_ds))"
   ]
  },
  {
   "cell_type": "code",
   "execution_count": 12,
   "id": "featured-sewing",
   "metadata": {},
   "outputs": [],
   "source": [
    "norm_image, _ = norm_data(image, label)"
   ]
  },
  {
   "cell_type": "code",
   "execution_count": 13,
   "id": "acute-adolescent",
   "metadata": {},
   "outputs": [],
   "source": [
    "preds = dense(flatten(tf.expand_dims(norm_image, axis=0)), weights, biases)"
   ]
  },
  {
   "cell_type": "code",
   "execution_count": 22,
   "id": "personal-secret",
   "metadata": {},
   "outputs": [
    {
     "data": {
      "text/plain": [
       "(6, 2)"
      ]
     },
     "execution_count": 22,
     "metadata": {},
     "output_type": "execute_result"
    }
   ],
   "source": [
    "preds.numpy().argmax(axis=1)[0], label.numpy()"
   ]
  }
 ],
 "metadata": {
  "kernelspec": {
   "display_name": "Python 3",
   "language": "python",
   "name": "python3"
  },
  "language_info": {
   "codemirror_mode": {
    "name": "ipython",
    "version": 3
   },
   "file_extension": ".py",
   "mimetype": "text/x-python",
   "name": "python",
   "nbconvert_exporter": "python",
   "pygments_lexer": "ipython3",
   "version": "3.8.5"
  }
 },
 "nbformat": 4,
 "nbformat_minor": 5
}
