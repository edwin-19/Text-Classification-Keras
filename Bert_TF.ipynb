{
  "nbformat": 4,
  "nbformat_minor": 0,
  "metadata": {
    "accelerator": "GPU",
    "colab": {
      "name": "Bert TF.ipynb",
      "provenance": [],
      "collapsed_sections": []
    },
    "kernelspec": {
      "display_name": "Python 3",
      "name": "python3"
    },
    "language_info": {
      "name": "python"
    }
  },
  "cells": [
    {
      "cell_type": "code",
      "metadata": {
        "colab": {
          "base_uri": "https://localhost:8080/"
        },
        "id": "ox6BpnGOSUdG",
        "outputId": "7bb42e2b-00ae-4ebc-9396-543520df895e"
      },
      "source": [
        "!pip install tensorflow-text\n",
        "!pip install tf-models-official"
      ],
      "execution_count": 2,
      "outputs": [
        {
          "output_type": "stream",
          "text": [
            "Requirement already satisfied: tensorflow-text in /usr/local/lib/python3.7/dist-packages (2.5.0)\n",
            "Requirement already satisfied: tensorflow-hub>=0.8.0 in /usr/local/lib/python3.7/dist-packages (from tensorflow-text) (0.12.0)\n",
            "Requirement already satisfied: tensorflow<2.6,>=2.5.0 in /usr/local/lib/python3.7/dist-packages (from tensorflow-text) (2.5.0)\n",
            "Requirement already satisfied: protobuf>=3.8.0 in /usr/local/lib/python3.7/dist-packages (from tensorflow-hub>=0.8.0->tensorflow-text) (3.12.4)\n",
            "Requirement already satisfied: numpy>=1.12.0 in /usr/local/lib/python3.7/dist-packages (from tensorflow-hub>=0.8.0->tensorflow-text) (1.19.5)\n",
            "Requirement already satisfied: opt-einsum~=3.3.0 in /usr/local/lib/python3.7/dist-packages (from tensorflow<2.6,>=2.5.0->tensorflow-text) (3.3.0)\n",
            "Requirement already satisfied: keras-nightly~=2.5.0.dev in /usr/local/lib/python3.7/dist-packages (from tensorflow<2.6,>=2.5.0->tensorflow-text) (2.5.0.dev2021032900)\n",
            "Requirement already satisfied: flatbuffers~=1.12.0 in /usr/local/lib/python3.7/dist-packages (from tensorflow<2.6,>=2.5.0->tensorflow-text) (1.12)\n",
            "Requirement already satisfied: tensorflow-estimator<2.6.0,>=2.5.0rc0 in /usr/local/lib/python3.7/dist-packages (from tensorflow<2.6,>=2.5.0->tensorflow-text) (2.5.0)\n",
            "Requirement already satisfied: six~=1.15.0 in /usr/local/lib/python3.7/dist-packages (from tensorflow<2.6,>=2.5.0->tensorflow-text) (1.15.0)\n",
            "Requirement already satisfied: google-pasta~=0.2 in /usr/local/lib/python3.7/dist-packages (from tensorflow<2.6,>=2.5.0->tensorflow-text) (0.2.0)\n",
            "Requirement already satisfied: absl-py~=0.10 in /usr/local/lib/python3.7/dist-packages (from tensorflow<2.6,>=2.5.0->tensorflow-text) (0.12.0)\n",
            "Requirement already satisfied: h5py~=3.1.0 in /usr/local/lib/python3.7/dist-packages (from tensorflow<2.6,>=2.5.0->tensorflow-text) (3.1.0)\n",
            "Requirement already satisfied: wheel~=0.35 in /usr/local/lib/python3.7/dist-packages (from tensorflow<2.6,>=2.5.0->tensorflow-text) (0.36.2)\n",
            "Requirement already satisfied: typing-extensions~=3.7.4 in /usr/local/lib/python3.7/dist-packages (from tensorflow<2.6,>=2.5.0->tensorflow-text) (3.7.4.3)\n",
            "Requirement already satisfied: grpcio~=1.34.0 in /usr/local/lib/python3.7/dist-packages (from tensorflow<2.6,>=2.5.0->tensorflow-text) (1.34.1)\n",
            "Requirement already satisfied: keras-preprocessing~=1.1.2 in /usr/local/lib/python3.7/dist-packages (from tensorflow<2.6,>=2.5.0->tensorflow-text) (1.1.2)\n",
            "Requirement already satisfied: gast==0.4.0 in /usr/local/lib/python3.7/dist-packages (from tensorflow<2.6,>=2.5.0->tensorflow-text) (0.4.0)\n",
            "Requirement already satisfied: wrapt~=1.12.1 in /usr/local/lib/python3.7/dist-packages (from tensorflow<2.6,>=2.5.0->tensorflow-text) (1.12.1)\n",
            "Requirement already satisfied: astunparse~=1.6.3 in /usr/local/lib/python3.7/dist-packages (from tensorflow<2.6,>=2.5.0->tensorflow-text) (1.6.3)\n",
            "Requirement already satisfied: tensorboard~=2.5 in /usr/local/lib/python3.7/dist-packages (from tensorflow<2.6,>=2.5.0->tensorflow-text) (2.5.0)\n",
            "Requirement already satisfied: termcolor~=1.1.0 in /usr/local/lib/python3.7/dist-packages (from tensorflow<2.6,>=2.5.0->tensorflow-text) (1.1.0)\n",
            "Requirement already satisfied: setuptools in /usr/local/lib/python3.7/dist-packages (from protobuf>=3.8.0->tensorflow-hub>=0.8.0->tensorflow-text) (57.0.0)\n",
            "Requirement already satisfied: cached-property; python_version < \"3.8\" in /usr/local/lib/python3.7/dist-packages (from h5py~=3.1.0->tensorflow<2.6,>=2.5.0->tensorflow-text) (1.5.2)\n",
            "Requirement already satisfied: tensorboard-data-server<0.7.0,>=0.6.0 in /usr/local/lib/python3.7/dist-packages (from tensorboard~=2.5->tensorflow<2.6,>=2.5.0->tensorflow-text) (0.6.1)\n",
            "Requirement already satisfied: werkzeug>=0.11.15 in /usr/local/lib/python3.7/dist-packages (from tensorboard~=2.5->tensorflow<2.6,>=2.5.0->tensorflow-text) (1.0.1)\n",
            "Requirement already satisfied: google-auth-oauthlib<0.5,>=0.4.1 in /usr/local/lib/python3.7/dist-packages (from tensorboard~=2.5->tensorflow<2.6,>=2.5.0->tensorflow-text) (0.4.4)\n",
            "Requirement already satisfied: tensorboard-plugin-wit>=1.6.0 in /usr/local/lib/python3.7/dist-packages (from tensorboard~=2.5->tensorflow<2.6,>=2.5.0->tensorflow-text) (1.8.0)\n",
            "Requirement already satisfied: markdown>=2.6.8 in /usr/local/lib/python3.7/dist-packages (from tensorboard~=2.5->tensorflow<2.6,>=2.5.0->tensorflow-text) (3.3.4)\n",
            "Requirement already satisfied: requests<3,>=2.21.0 in /usr/local/lib/python3.7/dist-packages (from tensorboard~=2.5->tensorflow<2.6,>=2.5.0->tensorflow-text) (2.23.0)\n",
            "Requirement already satisfied: google-auth<2,>=1.6.3 in /usr/local/lib/python3.7/dist-packages (from tensorboard~=2.5->tensorflow<2.6,>=2.5.0->tensorflow-text) (1.31.0)\n",
            "Requirement already satisfied: requests-oauthlib>=0.7.0 in /usr/local/lib/python3.7/dist-packages (from google-auth-oauthlib<0.5,>=0.4.1->tensorboard~=2.5->tensorflow<2.6,>=2.5.0->tensorflow-text) (1.3.0)\n",
            "Requirement already satisfied: importlib-metadata; python_version < \"3.8\" in /usr/local/lib/python3.7/dist-packages (from markdown>=2.6.8->tensorboard~=2.5->tensorflow<2.6,>=2.5.0->tensorflow-text) (4.5.0)\n",
            "Requirement already satisfied: idna<3,>=2.5 in /usr/local/lib/python3.7/dist-packages (from requests<3,>=2.21.0->tensorboard~=2.5->tensorflow<2.6,>=2.5.0->tensorflow-text) (2.10)\n",
            "Requirement already satisfied: chardet<4,>=3.0.2 in /usr/local/lib/python3.7/dist-packages (from requests<3,>=2.21.0->tensorboard~=2.5->tensorflow<2.6,>=2.5.0->tensorflow-text) (3.0.4)\n",
            "Requirement already satisfied: urllib3!=1.25.0,!=1.25.1,<1.26,>=1.21.1 in /usr/local/lib/python3.7/dist-packages (from requests<3,>=2.21.0->tensorboard~=2.5->tensorflow<2.6,>=2.5.0->tensorflow-text) (1.24.3)\n",
            "Requirement already satisfied: certifi>=2017.4.17 in /usr/local/lib/python3.7/dist-packages (from requests<3,>=2.21.0->tensorboard~=2.5->tensorflow<2.6,>=2.5.0->tensorflow-text) (2021.5.30)\n",
            "Requirement already satisfied: rsa<5,>=3.1.4; python_version >= \"3.6\" in /usr/local/lib/python3.7/dist-packages (from google-auth<2,>=1.6.3->tensorboard~=2.5->tensorflow<2.6,>=2.5.0->tensorflow-text) (4.7.2)\n",
            "Requirement already satisfied: pyasn1-modules>=0.2.1 in /usr/local/lib/python3.7/dist-packages (from google-auth<2,>=1.6.3->tensorboard~=2.5->tensorflow<2.6,>=2.5.0->tensorflow-text) (0.2.8)\n",
            "Requirement already satisfied: cachetools<5.0,>=2.0.0 in /usr/local/lib/python3.7/dist-packages (from google-auth<2,>=1.6.3->tensorboard~=2.5->tensorflow<2.6,>=2.5.0->tensorflow-text) (4.2.2)\n",
            "Requirement already satisfied: oauthlib>=3.0.0 in /usr/local/lib/python3.7/dist-packages (from requests-oauthlib>=0.7.0->google-auth-oauthlib<0.5,>=0.4.1->tensorboard~=2.5->tensorflow<2.6,>=2.5.0->tensorflow-text) (3.1.1)\n",
            "Requirement already satisfied: zipp>=0.5 in /usr/local/lib/python3.7/dist-packages (from importlib-metadata; python_version < \"3.8\"->markdown>=2.6.8->tensorboard~=2.5->tensorflow<2.6,>=2.5.0->tensorflow-text) (3.4.1)\n",
            "Requirement already satisfied: pyasn1>=0.1.3 in /usr/local/lib/python3.7/dist-packages (from rsa<5,>=3.1.4; python_version >= \"3.6\"->google-auth<2,>=1.6.3->tensorboard~=2.5->tensorflow<2.6,>=2.5.0->tensorflow-text) (0.4.8)\n",
            "Requirement already satisfied: tf-models-official in /usr/local/lib/python3.7/dist-packages (2.5.0)\n",
            "Requirement already satisfied: pandas>=0.22.0 in /usr/local/lib/python3.7/dist-packages (from tf-models-official) (1.1.5)\n",
            "Requirement already satisfied: pycocotools in /usr/local/lib/python3.7/dist-packages (from tf-models-official) (2.0.2)\n",
            "Requirement already satisfied: tensorflow-datasets in /usr/local/lib/python3.7/dist-packages (from tf-models-official) (4.0.1)\n",
            "Requirement already satisfied: numpy>=1.15.4 in /usr/local/lib/python3.7/dist-packages (from tf-models-official) (1.19.5)\n",
            "Requirement already satisfied: Cython in /usr/local/lib/python3.7/dist-packages (from tf-models-official) (0.29.23)\n",
            "Requirement already satisfied: six in /usr/local/lib/python3.7/dist-packages (from tf-models-official) (1.15.0)\n",
            "Requirement already satisfied: kaggle>=1.3.9 in /usr/local/lib/python3.7/dist-packages (from tf-models-official) (1.5.12)\n",
            "Requirement already satisfied: sentencepiece in /usr/local/lib/python3.7/dist-packages (from tf-models-official) (0.1.96)\n",
            "Requirement already satisfied: scipy>=0.19.1 in /usr/local/lib/python3.7/dist-packages (from tf-models-official) (1.4.1)\n",
            "Requirement already satisfied: tensorflow-addons in /usr/local/lib/python3.7/dist-packages (from tf-models-official) (0.13.0)\n",
            "Requirement already satisfied: sacrebleu in /usr/local/lib/python3.7/dist-packages (from tf-models-official) (1.5.1)\n",
            "Requirement already satisfied: matplotlib in /usr/local/lib/python3.7/dist-packages (from tf-models-official) (3.2.2)\n",
            "Requirement already satisfied: tf-slim>=1.1.0 in /usr/local/lib/python3.7/dist-packages (from tf-models-official) (1.1.0)\n",
            "Requirement already satisfied: oauth2client in /usr/local/lib/python3.7/dist-packages (from tf-models-official) (4.1.3)\n",
            "Requirement already satisfied: psutil>=5.4.3 in /usr/local/lib/python3.7/dist-packages (from tf-models-official) (5.4.8)\n",
            "Requirement already satisfied: tensorflow-model-optimization>=0.4.1 in /usr/local/lib/python3.7/dist-packages (from tf-models-official) (0.6.0)\n",
            "Requirement already satisfied: tensorflow-hub>=0.6.0 in /usr/local/lib/python3.7/dist-packages (from tf-models-official) (0.12.0)\n",
            "Requirement already satisfied: google-cloud-bigquery>=0.31.0 in /usr/local/lib/python3.7/dist-packages (from tf-models-official) (1.21.0)\n",
            "Requirement already satisfied: gin-config in /usr/local/lib/python3.7/dist-packages (from tf-models-official) (0.4.0)\n",
            "Requirement already satisfied: pyyaml>=5.1 in /usr/local/lib/python3.7/dist-packages (from tf-models-official) (5.4.1)\n",
            "Requirement already satisfied: seqeval in /usr/local/lib/python3.7/dist-packages (from tf-models-official) (1.2.2)\n",
            "Requirement already satisfied: tensorflow>=2.5.0 in /usr/local/lib/python3.7/dist-packages (from tf-models-official) (2.5.0)\n",
            "Requirement already satisfied: py-cpuinfo>=3.3.0 in /usr/local/lib/python3.7/dist-packages (from tf-models-official) (8.0.0)\n",
            "Requirement already satisfied: google-api-python-client>=1.6.7 in /usr/local/lib/python3.7/dist-packages (from tf-models-official) (1.12.8)\n",
            "Requirement already satisfied: opencv-python-headless in /usr/local/lib/python3.7/dist-packages (from tf-models-official) (4.5.2.54)\n",
            "Requirement already satisfied: Pillow in /usr/local/lib/python3.7/dist-packages (from tf-models-official) (7.1.2)\n",
            "Requirement already satisfied: pytz>=2017.2 in /usr/local/lib/python3.7/dist-packages (from pandas>=0.22.0->tf-models-official) (2018.9)\n",
            "Requirement already satisfied: python-dateutil>=2.7.3 in /usr/local/lib/python3.7/dist-packages (from pandas>=0.22.0->tf-models-official) (2.8.1)\n",
            "Requirement already satisfied: setuptools>=18.0 in /usr/local/lib/python3.7/dist-packages (from pycocotools->tf-models-official) (57.0.0)\n",
            "Requirement already satisfied: future in /usr/local/lib/python3.7/dist-packages (from tensorflow-datasets->tf-models-official) (0.16.0)\n",
            "Requirement already satisfied: tensorflow-metadata in /usr/local/lib/python3.7/dist-packages (from tensorflow-datasets->tf-models-official) (1.0.0)\n",
            "Requirement already satisfied: importlib-resources; python_version < \"3.9\" in /usr/local/lib/python3.7/dist-packages (from tensorflow-datasets->tf-models-official) (5.1.4)\n",
            "Requirement already satisfied: attrs>=18.1.0 in /usr/local/lib/python3.7/dist-packages (from tensorflow-datasets->tf-models-official) (21.2.0)\n",
            "Requirement already satisfied: termcolor in /usr/local/lib/python3.7/dist-packages (from tensorflow-datasets->tf-models-official) (1.1.0)\n",
            "Requirement already satisfied: promise in /usr/local/lib/python3.7/dist-packages (from tensorflow-datasets->tf-models-official) (2.3)\n",
            "Requirement already satisfied: dm-tree in /usr/local/lib/python3.7/dist-packages (from tensorflow-datasets->tf-models-official) (0.1.6)\n",
            "Requirement already satisfied: absl-py in /usr/local/lib/python3.7/dist-packages (from tensorflow-datasets->tf-models-official) (0.12.0)\n",
            "Requirement already satisfied: requests>=2.19.0 in /usr/local/lib/python3.7/dist-packages (from tensorflow-datasets->tf-models-official) (2.23.0)\n",
            "Requirement already satisfied: dill in /usr/local/lib/python3.7/dist-packages (from tensorflow-datasets->tf-models-official) (0.3.4)\n",
            "Requirement already satisfied: protobuf>=3.6.1 in /usr/local/lib/python3.7/dist-packages (from tensorflow-datasets->tf-models-official) (3.12.4)\n",
            "Requirement already satisfied: tqdm in /usr/local/lib/python3.7/dist-packages (from tensorflow-datasets->tf-models-official) (4.41.1)\n",
            "Requirement already satisfied: python-slugify in /usr/local/lib/python3.7/dist-packages (from kaggle>=1.3.9->tf-models-official) (5.0.2)\n",
            "Requirement already satisfied: urllib3 in /usr/local/lib/python3.7/dist-packages (from kaggle>=1.3.9->tf-models-official) (1.24.3)\n",
            "Requirement already satisfied: certifi in /usr/local/lib/python3.7/dist-packages (from kaggle>=1.3.9->tf-models-official) (2021.5.30)\n",
            "Requirement already satisfied: typeguard>=2.7 in /usr/local/lib/python3.7/dist-packages (from tensorflow-addons->tf-models-official) (2.7.1)\n",
            "Requirement already satisfied: portalocker==2.0.0 in /usr/local/lib/python3.7/dist-packages (from sacrebleu->tf-models-official) (2.0.0)\n",
            "Requirement already satisfied: pyparsing!=2.0.4,!=2.1.2,!=2.1.6,>=2.0.1 in /usr/local/lib/python3.7/dist-packages (from matplotlib->tf-models-official) (2.4.7)\n",
            "Requirement already satisfied: kiwisolver>=1.0.1 in /usr/local/lib/python3.7/dist-packages (from matplotlib->tf-models-official) (1.3.1)\n",
            "Requirement already satisfied: cycler>=0.10 in /usr/local/lib/python3.7/dist-packages (from matplotlib->tf-models-official) (0.10.0)\n",
            "Requirement already satisfied: pyasn1-modules>=0.0.5 in /usr/local/lib/python3.7/dist-packages (from oauth2client->tf-models-official) (0.2.8)\n",
            "Requirement already satisfied: pyasn1>=0.1.7 in /usr/local/lib/python3.7/dist-packages (from oauth2client->tf-models-official) (0.4.8)\n",
            "Requirement already satisfied: rsa>=3.1.4 in /usr/local/lib/python3.7/dist-packages (from oauth2client->tf-models-official) (4.7.2)\n",
            "Requirement already satisfied: httplib2>=0.9.1 in /usr/local/lib/python3.7/dist-packages (from oauth2client->tf-models-official) (0.17.4)\n",
            "Requirement already satisfied: google-resumable-media!=0.4.0,<0.5.0dev,>=0.3.1 in /usr/local/lib/python3.7/dist-packages (from google-cloud-bigquery>=0.31.0->tf-models-official) (0.4.1)\n",
            "Requirement already satisfied: google-cloud-core<2.0dev,>=1.0.3 in /usr/local/lib/python3.7/dist-packages (from google-cloud-bigquery>=0.31.0->tf-models-official) (1.0.3)\n",
            "Requirement already satisfied: scikit-learn>=0.21.3 in /usr/local/lib/python3.7/dist-packages (from seqeval->tf-models-official) (0.22.2.post1)\n",
            "Requirement already satisfied: flatbuffers~=1.12.0 in /usr/local/lib/python3.7/dist-packages (from tensorflow>=2.5.0->tf-models-official) (1.12)\n",
            "Requirement already satisfied: grpcio~=1.34.0 in /usr/local/lib/python3.7/dist-packages (from tensorflow>=2.5.0->tf-models-official) (1.34.1)\n",
            "Requirement already satisfied: typing-extensions~=3.7.4 in /usr/local/lib/python3.7/dist-packages (from tensorflow>=2.5.0->tf-models-official) (3.7.4.3)\n",
            "Requirement already satisfied: tensorflow-estimator<2.6.0,>=2.5.0rc0 in /usr/local/lib/python3.7/dist-packages (from tensorflow>=2.5.0->tf-models-official) (2.5.0)\n",
            "Requirement already satisfied: tensorboard~=2.5 in /usr/local/lib/python3.7/dist-packages (from tensorflow>=2.5.0->tf-models-official) (2.5.0)\n",
            "Requirement already satisfied: astunparse~=1.6.3 in /usr/local/lib/python3.7/dist-packages (from tensorflow>=2.5.0->tf-models-official) (1.6.3)\n",
            "Requirement already satisfied: gast==0.4.0 in /usr/local/lib/python3.7/dist-packages (from tensorflow>=2.5.0->tf-models-official) (0.4.0)\n",
            "Requirement already satisfied: wrapt~=1.12.1 in /usr/local/lib/python3.7/dist-packages (from tensorflow>=2.5.0->tf-models-official) (1.12.1)\n",
            "Requirement already satisfied: keras-nightly~=2.5.0.dev in /usr/local/lib/python3.7/dist-packages (from tensorflow>=2.5.0->tf-models-official) (2.5.0.dev2021032900)\n",
            "Requirement already satisfied: opt-einsum~=3.3.0 in /usr/local/lib/python3.7/dist-packages (from tensorflow>=2.5.0->tf-models-official) (3.3.0)\n",
            "Requirement already satisfied: google-pasta~=0.2 in /usr/local/lib/python3.7/dist-packages (from tensorflow>=2.5.0->tf-models-official) (0.2.0)\n",
            "Requirement already satisfied: wheel~=0.35 in /usr/local/lib/python3.7/dist-packages (from tensorflow>=2.5.0->tf-models-official) (0.36.2)\n",
            "Requirement already satisfied: keras-preprocessing~=1.1.2 in /usr/local/lib/python3.7/dist-packages (from tensorflow>=2.5.0->tf-models-official) (1.1.2)\n",
            "Requirement already satisfied: h5py~=3.1.0 in /usr/local/lib/python3.7/dist-packages (from tensorflow>=2.5.0->tf-models-official) (3.1.0)\n",
            "Requirement already satisfied: google-api-core<2dev,>=1.21.0 in /usr/local/lib/python3.7/dist-packages (from google-api-python-client>=1.6.7->tf-models-official) (1.26.3)\n",
            "Requirement already satisfied: google-auth-httplib2>=0.0.3 in /usr/local/lib/python3.7/dist-packages (from google-api-python-client>=1.6.7->tf-models-official) (0.0.4)\n",
            "Requirement already satisfied: google-auth>=1.16.0 in /usr/local/lib/python3.7/dist-packages (from google-api-python-client>=1.6.7->tf-models-official) (1.31.0)\n",
            "Requirement already satisfied: uritemplate<4dev,>=3.0.0 in /usr/local/lib/python3.7/dist-packages (from google-api-python-client>=1.6.7->tf-models-official) (3.0.1)\n",
            "Requirement already satisfied: googleapis-common-protos<2,>=1.52.0 in /usr/local/lib/python3.7/dist-packages (from tensorflow-metadata->tensorflow-datasets->tf-models-official) (1.53.0)\n",
            "Requirement already satisfied: zipp>=3.1.0; python_version < \"3.10\" in /usr/local/lib/python3.7/dist-packages (from importlib-resources; python_version < \"3.9\"->tensorflow-datasets->tf-models-official) (3.4.1)\n",
            "Requirement already satisfied: idna<3,>=2.5 in /usr/local/lib/python3.7/dist-packages (from requests>=2.19.0->tensorflow-datasets->tf-models-official) (2.10)\n",
            "Requirement already satisfied: chardet<4,>=3.0.2 in /usr/local/lib/python3.7/dist-packages (from requests>=2.19.0->tensorflow-datasets->tf-models-official) (3.0.4)\n",
            "Requirement already satisfied: text-unidecode>=1.3 in /usr/local/lib/python3.7/dist-packages (from python-slugify->kaggle>=1.3.9->tf-models-official) (1.3)\n",
            "Requirement already satisfied: joblib>=0.11 in /usr/local/lib/python3.7/dist-packages (from scikit-learn>=0.21.3->seqeval->tf-models-official) (1.0.1)\n",
            "Requirement already satisfied: markdown>=2.6.8 in /usr/local/lib/python3.7/dist-packages (from tensorboard~=2.5->tensorflow>=2.5.0->tf-models-official) (3.3.4)\n",
            "Requirement already satisfied: google-auth-oauthlib<0.5,>=0.4.1 in /usr/local/lib/python3.7/dist-packages (from tensorboard~=2.5->tensorflow>=2.5.0->tf-models-official) (0.4.4)\n",
            "Requirement already satisfied: tensorboard-data-server<0.7.0,>=0.6.0 in /usr/local/lib/python3.7/dist-packages (from tensorboard~=2.5->tensorflow>=2.5.0->tf-models-official) (0.6.1)\n",
            "Requirement already satisfied: tensorboard-plugin-wit>=1.6.0 in /usr/local/lib/python3.7/dist-packages (from tensorboard~=2.5->tensorflow>=2.5.0->tf-models-official) (1.8.0)\n",
            "Requirement already satisfied: werkzeug>=0.11.15 in /usr/local/lib/python3.7/dist-packages (from tensorboard~=2.5->tensorflow>=2.5.0->tf-models-official) (1.0.1)\n",
            "Requirement already satisfied: cached-property; python_version < \"3.8\" in /usr/local/lib/python3.7/dist-packages (from h5py~=3.1.0->tensorflow>=2.5.0->tf-models-official) (1.5.2)\n",
            "Requirement already satisfied: packaging>=14.3 in /usr/local/lib/python3.7/dist-packages (from google-api-core<2dev,>=1.21.0->google-api-python-client>=1.6.7->tf-models-official) (20.9)\n",
            "Requirement already satisfied: cachetools<5.0,>=2.0.0 in /usr/local/lib/python3.7/dist-packages (from google-auth>=1.16.0->google-api-python-client>=1.6.7->tf-models-official) (4.2.2)\n",
            "Requirement already satisfied: importlib-metadata; python_version < \"3.8\" in /usr/local/lib/python3.7/dist-packages (from markdown>=2.6.8->tensorboard~=2.5->tensorflow>=2.5.0->tf-models-official) (4.5.0)\n",
            "Requirement already satisfied: requests-oauthlib>=0.7.0 in /usr/local/lib/python3.7/dist-packages (from google-auth-oauthlib<0.5,>=0.4.1->tensorboard~=2.5->tensorflow>=2.5.0->tf-models-official) (1.3.0)\n",
            "Requirement already satisfied: oauthlib>=3.0.0 in /usr/local/lib/python3.7/dist-packages (from requests-oauthlib>=0.7.0->google-auth-oauthlib<0.5,>=0.4.1->tensorboard~=2.5->tensorflow>=2.5.0->tf-models-official) (3.1.1)\n"
          ],
          "name": "stdout"
        }
      ]
    },
    {
      "cell_type": "code",
      "metadata": {
        "id": "HRlAQRIERc1F"
      },
      "source": [
        "import tensorflow as tf\n",
        "import tensorflow_datasets as tfds\n",
        "import tensorflow_text as tftext\n",
        "from official.nlp import optimization # Use for adamW\n",
        "from official.nlp.bert import tokenization\n",
        "from official.nlp.bert import bert_models\n",
        "import tensorflow_hub as hub"
      ],
      "execution_count": 3,
      "outputs": []
    },
    {
      "cell_type": "code",
      "metadata": {
        "id": "atmyRBmESSTg"
      },
      "source": [
        "from matplotlib import pyplot as plt\n",
        "import seaborn as sns\n",
        "import numpy as np\n",
        "import seaborn as sns\n",
        "import os\n",
        "import re"
      ],
      "execution_count": 4,
      "outputs": []
    },
    {
      "cell_type": "code",
      "metadata": {
        "id": "BmPeH6PraWOy"
      },
      "source": [
        "bert_layer = hub.KerasLayer(\"https://tfhub.dev/tensorflow/bert_en_uncased_L-24_H-1024_A-16/1\", trainable=True)"
      ],
      "execution_count": 5,
      "outputs": []
    },
    {
      "cell_type": "markdown",
      "metadata": {
        "id": "ORbuyYcvTuxM"
      },
      "source": [
        "# Lets load our dataset using tensorflow datasets\n",
        "- We will be using the sentiment140\n",
        "- Contains tweets with the following categories:\n",
        "- You can read up here: https://www.tensorflow.org/datasets/catalog/sentiment140"
      ]
    },
    {
      "cell_type": "code",
      "metadata": {
        "id": "G8rdjiGMURRR"
      },
      "source": [
        "(train_ds, valid_ds, test_ds), ds_info = tfds.load(\n",
        "    'imdb_reviews', with_info=True, as_supervised=True,\n",
        "    split=['train', 'test[50:]', 'test[:50]']\n",
        ")"
      ],
      "execution_count": 6,
      "outputs": []
    },
    {
      "cell_type": "code",
      "metadata": {
        "colab": {
          "base_uri": "https://localhost:8080/"
        },
        "id": "uHxBzbWzc-wb",
        "outputId": "cdabaff4-a8fb-46ca-9147-60a02fa1d464"
      },
      "source": [
        "# Some eda to understand a bit\n",
        "for text, label in train_ds.shuffle(1024).take(10):\n",
        "  print(text.numpy(), label.numpy())"
      ],
      "execution_count": 7,
      "outputs": [
        {
          "output_type": "stream",
          "text": [
            "b\"This film was very well advertised. I am an avid movie goer and have seen previews for this movie for months. While I was somewhat skeptical of how funny this movie would actually be, my friends thought it was going to be great and hyped me up about it. Then I went and saw it, I was sunk down in my seat almost asleep until I remembered that I had paid for this movie. I made myself laugh at most of the stuff in the movie just so i wouldnt feel bad and destroy the good mood I was in, plus I wanted to get my monies worth out of the movie! I always go into a movie with an open mind, not trying to go into them with too many expectations, but this movie was not that funny. Now it wasnt the worst movie I've ever seen, but it is definitely worth waiting for HBO. If you havent seen many previews for the movie or you like very slow and corny comedies you may enjoy it, but for true comedy fans Id say pass. Maybe even check out The Kings of Comedy again. Something told me to go see Meet the Parents instead!!!\" 0\n",
            "b'I really wanted to love this show. I truly, honestly did.<br /><br />For the first time, gay viewers get their own version of the \"The Bachelor\". With the help of his obligatory \"hag\" Andra, James, a good looking, well-to-do thirty-something has the chance of love with 15 suitors (or \"mates\" as they are referred to in the show). The only problem is half of them are straight and James doesn\\'t know this. If James picks a gay one, they get a trip to New Zealand, and If he picks a straight one, straight guy gets $25,000. How can this not be fun?! Take my hand, lets stroll: <br /><br />The most glaring problem with this show is the bachelor himself. James is your typical young and successful gay guy with a nice smile and body, the one you\\'d probably give two glances towards at your local bar before grazing for greener pastures. Why they chose to cast James as the leading man is beyond me. God knows there\\'s so many other hotter and vivacious homosexual men out there dying to be on TV.<br /><br />Aside from his rather average physical appearance, James is about as interesting and exciting as a piece of chalk. Even as such, he has this arrogant, smugly condescending aura about him. However, if James were standing up against a blank, white wall he\\'d meld right into in it. I honestly can\\'t recall a single interesting or noteworthy thing James said during the course of the show. He is THAT boring and forgettable. In fact, one of the mates flat out advised him he wasn\\'t feeling a connection. I thought that was the best part of the show. Also, James speaks with an excruciatingly annoying lilt. Sound feminine or sound masculine, but don\\'t ****ing segue tones in the middle of sentences...so painful to sit through. I hated him so much all throughout the show I kept thinking, \"Please choose a straight guy and humiliate yourself and your unfortunate looking hag\"<br /><br />Then we have the suitors. A remarkably bland bunch of men who don\\'t seem to care either way what is happening. Equally vapid, they seem to be indistinguishable from one guy to the next except, \"Hey that guy has blond highlights or oh that one has curly hair\" Again, astoundingly inept casting decisions seem to be the aim of this show. While it may be hackneyed to type cast roles, it would\\'ve been a lot more entertaining to watch than these amorphous drones. However, in all their banality they still manage to upstage James (which isn\\'t all that hard to do anyway), slightly that is. You know you have a problem when some of the suitors are actually hotter and more interesting than the leading man. And the fact that the suitors seem to have more fun around EACH OTHER than with the leading man? Very sad.<br /><br />Also, I just thought that Id point something mentioned on the message boards which I felt was actually true: the straight men are all hotter than the gay guys. <br /><br />Don\\'t get me wrong, Im not saying all the gay guys were ugly and boring, as a matter of fact I found some of them very cute. It\\'s just that overall they were just BLAH compared to the men you\\'d see on shows like A Shot At Love with Tila Tequila or The Bachelorette.<br /><br />I don\\'t know how many times I hit fast forward during this show. I can accept a lead character as interesting as a cardboard box, I can accept the mundane, apathetic suitors but PLEASE for the love of God entertain me just a little. No such luck.<br /><br />If you\\'re expecting drama, intrigue, sexiness, or excitement you will be SEVERELY disappointed. The biggest \"drama\" comes from the fact that one of the suitors still may have a boyfriend in New York (How scandalous!). As titillating as that may be I guarantee you, that is the ONLY thing that remotely resembles any conflict on this show.<br /><br />Sure there is the twist, but if you have any semblance of Gaydar in you, you\\'ll easily discern who\\'s who (it wasn\\'t hard at all, I was only wrong once.) This show is stacking so much of its chips on the twist that it fails to deliver anywhere else.<br /><br />We get to watch as James & Co plod along such exciting activities such as learning how to Western step dance, shopping for gifts, visiting a petting zoo, and gay karaoke. YAWN. Sure you have the occasional topless dancing but who cares when everyone is boring anyway. That\\'s one of main problems with the show: NO ONE seems to be enjoying themselves--they are there just going through the motion trying mightily hard to appear to have a good time. And you really cant blame them since the events are all wildly unimaginative and lame.<br /><br />Finally, the physical aspect is not there. There\\'s no cuddling, no caressing, no kissing (!), no endearment of any sort. It\\'s just \"Ok that was a boring date, Im gonna go back to my ugly, tacky wanna-be Sydney Operahouse dwelling (quick peck on the lips) CYA.\" This show is so ****ing prudish it\\'s ridiculous. I can understand them not wanting to play up the perceived indiscretionary nature of homosexual men, but come the **** on. People who watch reality TV shows are gonna want more than standoffish hugs and curt kisses. This show refuses to compromise.<br /><br />Sorry if this was long winded but I felt these were issues that needed to be addressed. I do commend Bravo for first putting up a show of this nature, but the staggeringly incompetent manner in which this show was handled is mind boggling. To summarize my three points: Boring + Boring + Boring = go do something else. You\\'ll have more fun waiting at a doctor\\'s office for an appointment, at least they have interesting magazines there.' 0\n",
            "b\"To bad for this fine film that it had to be released the same year as Braveheart. Though it is a very different kind of film, the conflict between Scottish commoners and English nobility is front and center here as well. Roughly 400 years had passed between the time Braveheart took place and Rob Roy was set, but some things never seemed to change. Scottland is still run by English nobles, and the highlanders never can seem to catch a break when dealing with them. Rob Roy is handsomely done, but not the grand epic that Braveheart was. There are no large-scale battles, and the conflict here is more between individuals. And helpfully so not all Englishmen are portrayed as evil this time. Rob Roy is simply a film about those with honor, and those who are truly evil.<br /><br />Liam Neeson plays the title character Rob Roy MacGregor. He is the leader of the MacGregor clan and his basic function is to tend to and protect the cattle of the local nobleman of record known as the Marquis of Montrose (John Hurt). Things look pretty rough for the MacGregor clan as winter is approaching, and there seems to be a lack of food for everyone. Rob Roy puts together a plan to borrow 1000 pounds from the Marquis and purchase some cattle of his own. He would then sell them off for a higher price and use the money to improve the general well-being of his community. Sounds fair enough, doesn't it? Problems arise when two cronies of the Marquis steal the money for themselves. One of them, known as Archibald Cunningham, is perhaps the most evil character ever put on film. Played wonderfully by Tim Roth, this man is a penniless would-be noble who has been sent to live with the Marquis by his mother. This man is disgustingly effeminate, rude, heartless, and very dangerous with a sword. He fathers a child with a hand maiden and refuses to own up to the responsibility. He rapes Macgregor's wife and burns him out of his home. This guy is truly as rotten as movie characters come. Along with another crony of the Marquis (Brian Cox) Cunningham steals the money and uses it to settle his own debts. Though it is painfully obvious to most people what happened, the Marquis still holds MacGregor to the debt. This sets up conflict that will take many lives and challenge the strengths of a man simply fighting to hold on to his dignity.<br /><br />Spoilers ahead!!!!!<br /><br />Luckily for the MacGregor's, a Duke who is no friend to the Marquis sets up a final duel between Rob Roy and Cunningham to resolve the conflict one and for all. This sword fight has been considered by many to be one of the best ever filmed. Cunningham is thought by many to be a sure winner with his speed and grace. And for most of the fight, it looks like these attributes will win out. Just when it looks like Rob Roy is finished, he turns the tables in a shockingly grotesque manner. The first time you see what happens, you will probably be as shocked as Cunningham! Rob Roy is beautifully filmed, wonderfully acted, and perfectly paced. The score is quite memorable, too. The casting choices seem to have worked out as Jessica Lange, who might seem to be out of her element, actually turns in one of the strongest performances as Mary MacGregor. The film is violent, but there isn't too much gore. It is a lusty picture full of deviant behavior, however. The nobility are largely played as being amoral and sleazy. The film has no obvious flaws, thus it gets 10 of 10 stars.<br /><br />The Hound.\" 1\n",
            "b'Not worth the video rental or the time or the occasional efforts.<br /><br />*Makeup that a child can do. *Acting was over done...poor directing. *Editing was very choppy...many things made no sense or just seemed gratuitous. *Sound was badly dubbed. *Music was highly inappropriate. *Casting was extremely off...must have been on crack. *Zombies that talk let alone...drive, dance, work...just pisses me off. *And the bad guy...Holy Crap! As horribly casted as he was...he was the best looking zombie of all. Which doesn\\'t say much.<br /><br />The Cover Art was good but very deceiving...as was the Main Menu of the DVD...great artwork and music.<br /><br />DON\"T BOTHER!' 0\n",
            "b'I saw this film when I was 10 or 11 years old, alone in my parent\\'s basement on a Saturday night. It was being shown on \"Chiller Theatre,\" a regular fright feature that I watched religiously as a young \\'un. Now, I have seen many old horror films thanks to Chiller Theatre, but none ever stuck with me like \"Danse Macabre,\" a.k.a. \"Castle of Blood.\" I am 51 now, and only last year was I fortunate enough to locate a relatively recent, quality DVD edition of this wonderfully shudder-inducing supernatural classic, having thought I\\'d never manage to see it again. I have already watched it four more times, and cannot seem to get tired of it.<br /><br />They just don\\'t make spook films like this one anymore. Haunted catacombs and mist-enshrouded graveyards just don\\'t work as well in color as they did in black and white back in the day. Anyway, this one has Edgar Allen Poe and Barbara Steele, deliciously shadowy, cobweb-wrap\\'ed haunted castle sets, restless spirits re-enacting their deaths... and a wickedly ironic ending.<br /><br />IMO, this one\\'s right up there with Robert Wise\\'s \"The Haunting,\" \"The Innocents\" (with Deborah Kerr), and the more recent \"The Others.\"' 1\n",
            "b\"This one is quite a nice surprise. Cute little story of the heroine's quest, very surprising metamorphosis of the four-eye prissy soon-to-be-spinster type into a raunchy DD-cup sex queen. <br /><br />Visually a sight for sore eyes, not only for two quite stunning actresses but also for (most of) the costumes and make-up of the actors. An unnecessary bit of cheapness came in some ridiculous castle imitation.<br /><br />Back to the positives: The movie is spiced with some unusually explicit camera-shots which you would not expect in a soft core. Loved that scene with the icicles, absolute classics potential. A slight minus only for (very) few odd scenes where bad acting by minor casts shortly suspended the suspension of disbelief. <br /><br />9/10 including an extra credit for the serious drooling effect.\" 1\n",
            "b'Sure, for it\\'s super imagery and awesome sound, it\\'s a great home theater \"show off\" disk, but this is also a touching drama as well as an informative documentary. The parallel stories that are intertwined throughout this film will keep all viewers interested. Young, old, boys and girls alike will find that deep down, we are all fans of the automobile, especially the high performance indy machines that are the result of generations blood, sweat, tears, ingenuity and perseverance. The Mark Knopfler and Ry Cooder sound track is perfectly matched to the visuals and the content. I don\\'t want to give away the ending, but the final driving sequence to Quincy Jones\\' \"Days Like These\" just might bring a tear to your eye. Enjoy it!' 1\n",
            "b'This film is a travesty, and isn\\'t fit to keep company with the superior original. The plot is an absolute mess, and the film is way too long. Everytime they\\'re struggling, they desperately inject a sentimental reminder from the first film.<br /><br />\"Gregory\\'s Girl\" is one of the top 10 British films of all time, this one is awful.' 0\n",
            "b\"Very good martial arts film and Jet Li is the best since the master himself Bruce Lee .Li is excellent as the low key librarian/cop who saves all time and time again . He has a presence and a look that is riveting and believable as the kung fu king that you don't mess with .Francoise Yip is simply beautiful in that mixed race original way that is unique because of her mixed heritage , she has an innocence and an allure all at the same time that I found unforgettable .The villain , the man with the sunglasses and long hair was very good as well but I can't find his name in the credits , can some one help me out with that ? Thanks ! Enjoy Hak hap or Black Mask , in any language its good entertainment !\" 1\n",
            "b\"I cannot believe the same guy directed this crap and Dracula 2000. Dracula 2000 was innovative, fresh, and well written, if poorly acted.<br /><br />This pile can't even claim that. It starts with the defeat of Dracula at the end of Dracula 2000. Then ignores the narrative afterwards describing what happened after that. Following the narrative properly could have made this a good sequel somehow, but Craven chose to go in the style of his older films, having no good tie but the main villain's name.<br /><br />Even the actor playing Dracula was different (going from dark hair in Dracula 2000 to a blonde here).<br /><br />Avoid this movie if you have any respect for your taste in movies.\" 0\n"
          ],
          "name": "stdout"
        }
      ]
    },
    {
      "cell_type": "code",
      "metadata": {
        "id": "mYrvmTXydijE"
      },
      "source": [
        "train_df = tfds.as_dataframe(train_ds, ds_info)\n",
        "valid_df = tfds.as_dataframe(valid_ds, ds_info)"
      ],
      "execution_count": 8,
      "outputs": []
    },
    {
      "cell_type": "code",
      "metadata": {
        "colab": {
          "base_uri": "https://localhost:8080/",
          "height": 206
        },
        "id": "FsB4yXu3gzLJ",
        "outputId": "ea6e8dd8-beb9-4e93-8c9d-b91d3ff42cc9"
      },
      "source": [
        "train_df.head()"
      ],
      "execution_count": 9,
      "outputs": [
        {
          "output_type": "execute_result",
          "data": {
            "text/html": [
              "<div>\n",
              "<style scoped>\n",
              "    .dataframe tbody tr th:only-of-type {\n",
              "        vertical-align: middle;\n",
              "    }\n",
              "\n",
              "    .dataframe tbody tr th {\n",
              "        vertical-align: top;\n",
              "    }\n",
              "\n",
              "    .dataframe thead th {\n",
              "        text-align: right;\n",
              "    }\n",
              "</style>\n",
              "<table border=\"1\" class=\"dataframe\">\n",
              "  <thead>\n",
              "    <tr style=\"text-align: right;\">\n",
              "      <th></th>\n",
              "      <th>label</th>\n",
              "      <th>text</th>\n",
              "    </tr>\n",
              "  </thead>\n",
              "  <tbody>\n",
              "    <tr>\n",
              "      <th>0</th>\n",
              "      <td>0</td>\n",
              "      <td>b\"This was an absolutely terrible movie. Don't...</td>\n",
              "    </tr>\n",
              "    <tr>\n",
              "      <th>1</th>\n",
              "      <td>0</td>\n",
              "      <td>b'I have been known to fall asleep during film...</td>\n",
              "    </tr>\n",
              "    <tr>\n",
              "      <th>2</th>\n",
              "      <td>0</td>\n",
              "      <td>b'Mann photographs the Alberta Rocky Mountains...</td>\n",
              "    </tr>\n",
              "    <tr>\n",
              "      <th>3</th>\n",
              "      <td>1</td>\n",
              "      <td>b'This is the kind of film for a snowy Sunday ...</td>\n",
              "    </tr>\n",
              "    <tr>\n",
              "      <th>4</th>\n",
              "      <td>1</td>\n",
              "      <td>b'As others have mentioned, all the women that...</td>\n",
              "    </tr>\n",
              "  </tbody>\n",
              "</table>\n",
              "</div>"
            ],
            "text/plain": [
              "   label                                               text\n",
              "0      0  b\"This was an absolutely terrible movie. Don't...\n",
              "1      0  b'I have been known to fall asleep during film...\n",
              "2      0  b'Mann photographs the Alberta Rocky Mountains...\n",
              "3      1  b'This is the kind of film for a snowy Sunday ...\n",
              "4      1  b'As others have mentioned, all the women that..."
            ]
          },
          "metadata": {
            "tags": []
          },
          "execution_count": 9
        }
      ]
    },
    {
      "cell_type": "code",
      "metadata": {
        "id": "ni1-MMVZiM7L"
      },
      "source": [
        "train_df['length'] = train_df['text'].apply(lambda x: len(x))"
      ],
      "execution_count": 10,
      "outputs": []
    },
    {
      "cell_type": "code",
      "metadata": {
        "colab": {
          "base_uri": "https://localhost:8080/",
          "height": 609
        },
        "id": "NFCAd0fSiSr2",
        "outputId": "1db7fdf2-b41f-4913-83f0-e12ceaf520d5"
      },
      "source": [
        "plt.figure(figsize=(15, 10))\n",
        "count = train_df['label'].value_counts()\n",
        "sns.barplot(x=count.index, y=count)"
      ],
      "execution_count": 11,
      "outputs": [
        {
          "output_type": "execute_result",
          "data": {
            "text/plain": [
              "<matplotlib.axes._subplots.AxesSubplot at 0x7f15375120d0>"
            ]
          },
          "metadata": {
            "tags": []
          },
          "execution_count": 11
        },
        {
          "output_type": "display_data",
          "data": {
            "image/png": "[encoded data removed]",
            "text/plain": [
              "<Figure size 1080x720 with 1 Axes>"
            ]
          },
          "metadata": {
            "tags": [],
            "needs_background": "light"
          }
        }
      ]
    },
    {
      "cell_type": "code",
      "metadata": {
        "colab": {
          "base_uri": "https://localhost:8080/",
          "height": 623
        },
        "id": "ViGl5J_uiu4R",
        "outputId": "752be26e-8b9d-48c5-a43f-d0947e5f0fca"
      },
      "source": [
        "plt.figure(figsize=(15, 10))\n",
        "sns.violinplot(data=train_df, y='length', x='label')"
      ],
      "execution_count": 12,
      "outputs": [
        {
          "output_type": "execute_result",
          "data": {
            "text/plain": [
              "<matplotlib.axes._subplots.AxesSubplot at 0x7f15374cc690>"
            ]
          },
          "metadata": {
            "tags": []
          },
          "execution_count": 12
        },
        {
          "output_type": "display_data",
          "data": {
            "image/png": "[encoded data removed]",
            "text/plain": [
              "<Figure size 1080x720 with 1 Axes>"
            ]
          },
          "metadata": {
            "tags": [],
            "needs_background": "light"
          }
        }
      ]
    },
    {
      "cell_type": "markdown",
      "metadata": {
        "id": "wDesYjsCc9UN"
      },
      "source": [
        "# Load tokenizer\n",
        "- We will load our tokenizer with the gs folder we have above\n",
        "- We will create tokens similar to how huggingfaces does it"
      ]
    },
    {
      "cell_type": "code",
      "metadata": {
        "id": "cnvPlHIzjko7"
      },
      "source": [
        "def bert_encode(text, tokenizer, max_len=512):\n",
        "  tokenized_text = tokenizer.tokenize(text)\n",
        "  input_seq = [\"[CLS]\"] + tokenized_text[:max_len-2] + [\"[SEP]\"]\n",
        "  pad_len =  max_len - len(input_seq)\n",
        "  tokens = tokenizer.convert_tokens_to_ids(input_seq)\n",
        "  tokens += [0] * pad_len\n",
        "  pad_masks = [1] * len(input_seq) + [0] * pad_len\n",
        "  segment_ids = [0] * max_len  \n",
        "\n",
        "  return tokens, pad_masks, segment_ids\n",
        "\n",
        "def preproc(text):\n",
        "  text = re.sub('[^0-9a-zA-Z]+', ' ', text)\n",
        "  return text.lower().strip()"
      ],
      "execution_count": 13,
      "outputs": []
    },
    {
      "cell_type": "code",
      "metadata": {
        "id": "93PeNxXpUoN0"
      },
      "source": [
        "vocab_file = bert_layer.resolved_object.vocab_file.asset_path.numpy()\n",
        "do_lower_case = bert_layer.resolved_object.do_lower_case.numpy()\n",
        "\n",
        "tokenizer = tokenization.FullTokenizer(\n",
        "    vocab_file, do_lower_case=do_lower_case\n",
        ")"
      ],
      "execution_count": 14,
      "outputs": []
    },
    {
      "cell_type": "code",
      "metadata": {
        "id": "PQBx_EL-Xpbz"
      },
      "source": [
        "train_df = train_df.dropna(subset=['text'])\n",
        "valid_df = valid_df.dropna(subset=['text'])"
      ],
      "execution_count": 15,
      "outputs": []
    },
    {
      "cell_type": "code",
      "metadata": {
        "id": "s015s5bGqK27"
      },
      "source": [
        "train_text = train_df['text'].apply(lambda x: preproc(x.decode('utf-8'))).tolist()\n",
        "train_labels = train_df['label'].tolist()\n",
        "\n",
        "valid_text = valid_df['text'].apply(lambda x: preproc(x.decode('utf-8'))).tolist()\n",
        "valid_labels = valid_df['label'].tolist()"
      ],
      "execution_count": 16,
      "outputs": []
    },
    {
      "cell_type": "code",
      "metadata": {
        "id": "6s_u2-MUX-9x"
      },
      "source": [
        "train_tokens = []\n",
        "train_pad_mask = []\n",
        "train_segment_ids = []\n",
        "\n",
        "for text in train_text:\n",
        "  tokens, pad_masks, segment_ids = bert_encode(text, tokenizer, max_len=100)\n",
        "  train_tokens.append(tokens)\n",
        "  train_pad_mask.append(pad_masks)\n",
        "  train_segment_ids.append(segment_ids)\n",
        "\n",
        "valid_tokens = []\n",
        "valid_pad_mask = []\n",
        "valid_segment_ids = []\n",
        "\n",
        "for text in valid_text:\n",
        "  tokens, pad_masks, segment_ids = bert_encode(text, tokenizer, max_len=100)\n",
        "  valid_tokens.append(tokens)\n",
        "  valid_pad_mask.append(pad_masks)\n",
        "  valid_segment_ids.append(segment_ids)"
      ],
      "execution_count": 17,
      "outputs": []
    },
    {
      "cell_type": "code",
      "metadata": {
        "id": "EnYR8nKWXfby"
      },
      "source": [
        "norm_train_ds = tf.data.Dataset.from_tensor_slices(({\n",
        "    'input_ids': train_tokens,\n",
        "    'pad_tokens': train_pad_mask,\n",
        "    'segment_ids': train_segment_ids\n",
        "}, train_labels))\n",
        "\n",
        "norm_test_ds = tf.data.Dataset.from_tensor_slices(({\n",
        "    'input_ids': valid_tokens,\n",
        "    'pad_tokens': valid_pad_mask,\n",
        "    'segment_ids': valid_segment_ids\n",
        "}, valid_labels))"
      ],
      "execution_count": 18,
      "outputs": []
    },
    {
      "cell_type": "code",
      "metadata": {
        "id": "VC-jYS2qZeXX"
      },
      "source": [
        "@tf.function\n",
        "def norm_labels(data, labels):\n",
        "  return data, tf.one_hot(labels, 2)\n",
        "\n",
        "norm_train_ds = norm_train_ds.shuffle(len(norm_train_ds)).map(norm_labels, num_parallel_calls=tf.data.experimental.AUTOTUNE).batch(16).prefetch(tf.data.experimental.AUTOTUNE)\n",
        "norm_test_ds = norm_test_ds.map(norm_labels, num_parallel_calls=tf.data.experimental.AUTOTUNE).batch(16).prefetch(tf.data.experimental.AUTOTUNE)"
      ],
      "execution_count": 19,
      "outputs": []
    },
    {
      "cell_type": "markdown",
      "metadata": {
        "id": "fGSqI9q7rvkf"
      },
      "source": [
        "# Lets build our bert model\n",
        "- This will be a multi input model of 3 things\n",
        "  - input_ids: the tokenized words\n",
        "  - the pad tokens: to tell which tokens are padded\n",
        "  - segment_ids: which are broken down to different sentences\n",
        "- We will load it via tf-keras hub layer"
      ]
    },
    {
      "cell_type": "code",
      "metadata": {
        "id": "Pq2CERNRtUza"
      },
      "source": [
        "def build_model(bert_layer, max_len=512):\n",
        "  input_word_ids = tf.keras.layers.Input(shape=(max_len), dtype=tf.int32, name='input_ids')\n",
        "  input_mask = tf.keras.layers.Input(shape=(max_len), dtype=tf.int32, name='pad_tokens')\n",
        "  segment_ids = tf.keras.layers.Input(shape=(max_len), dtype=tf.int32, name='segment_ids')\n",
        "\n",
        "  _, sequence_output = bert_layer([input_word_ids, input_mask, segment_ids])\n",
        "  clf_output = sequence_output[:, 0,:]\n",
        "  fc1 = tf.keras.layers.Dense(256, activation='gelu')(clf_output)\n",
        "  output = tf.keras.layers.Dense(2, activation='softmax')(fc1)\n",
        "\n",
        "  model = tf.keras.Model(inputs=[input_word_ids, input_mask, segment_ids], outputs=output)\n",
        "\n",
        "  return model"
      ],
      "execution_count": 20,
      "outputs": []
    },
    {
      "cell_type": "code",
      "metadata": {
        "id": "ouHNMo8bu1KJ"
      },
      "source": [
        "model = build_model(bert_layer, max_len=100)"
      ],
      "execution_count": 21,
      "outputs": []
    },
    {
      "cell_type": "code",
      "metadata": {
        "colab": {
          "base_uri": "https://localhost:8080/"
        },
        "id": "JW2eHzqlu6kH",
        "outputId": "f6ec6a70-3024-47f2-9259-b34fa9f71ba6"
      },
      "source": [
        "model.summary()"
      ],
      "execution_count": 22,
      "outputs": [
        {
          "output_type": "stream",
          "text": [
            "Model: \"model\"\n",
            "__________________________________________________________________________________________________\n",
            "Layer (type)                    Output Shape         Param #     Connected to                     \n",
            "==================================================================================================\n",
            "input_ids (InputLayer)          [(None, 100)]        0                                            \n",
            "__________________________________________________________________________________________________\n",
            "pad_tokens (InputLayer)         [(None, 100)]        0                                            \n",
            "__________________________________________________________________________________________________\n",
            "segment_ids (InputLayer)        [(None, 100)]        0                                            \n",
            "__________________________________________________________________________________________________\n",
            "keras_layer (KerasLayer)        [(None, 1024), (None 335141889   input_ids[0][0]                  \n",
            "                                                                 pad_tokens[0][0]                 \n",
            "                                                                 segment_ids[0][0]                \n",
            "__________________________________________________________________________________________________\n",
            "tf.__operators__.getitem (Slici (None, 1024)         0           keras_layer[0][1]                \n",
            "__________________________________________________________________________________________________\n",
            "dense (Dense)                   (None, 256)          262400      tf.__operators__.getitem[0][0]   \n",
            "__________________________________________________________________________________________________\n",
            "dense_1 (Dense)                 (None, 2)            514         dense[0][0]                      \n",
            "==================================================================================================\n",
            "Total params: 335,404,803\n",
            "Trainable params: 335,404,802\n",
            "Non-trainable params: 1\n",
            "__________________________________________________________________________________________________\n"
          ],
          "name": "stdout"
        }
      ]
    },
    {
      "cell_type": "code",
      "metadata": {
        "id": "FrjYrP19vSzO"
      },
      "source": [
        "adamw = optimization.create_optimizer(\n",
        "    2e-5, num_train_steps=1200, num_warmup_steps=100\n",
        ")"
      ],
      "execution_count": 23,
      "outputs": []
    },
    {
      "cell_type": "code",
      "metadata": {
        "id": "_4YLodXFvDMt"
      },
      "source": [
        "model.compile(\n",
        "    loss=tf.keras.losses.BinaryCrossentropy(),\n",
        "    optimizer=adamw,\n",
        "    metrics=['accuracy', tf.keras.metrics.Precision(), tf.keras.metrics.Recall(), tf.keras.metrics.AUC()]\n",
        ")"
      ],
      "execution_count": 24,
      "outputs": []
    },
    {
      "cell_type": "markdown",
      "metadata": {
        "id": "S30IOg7cmF4k"
      },
      "source": [
        "# Train model"
      ]
    },
    {
      "cell_type": "code",
      "metadata": {
        "colab": {
          "base_uri": "https://localhost:8080/"
        },
        "id": "dKUCMBECmHof",
        "outputId": "bf9fcb31-1abf-434f-abcb-b947ac3aa03e"
      },
      "source": [
        "history = model.fit(norm_train_ds, epochs=2, validation_data=norm_test_ds)"
      ],
      "execution_count": 25,
      "outputs": [
        {
          "output_type": "stream",
          "text": [
            "Epoch 1/2\n",
            "1563/1563 [==============================] - 2315s 1s/step - loss: 0.3106 - accuracy: 0.8634 - precision: 0.8634 - recall: 0.8634 - auc: 0.9376 - val_loss: 0.2628 - val_accuracy: 0.8907 - val_precision: 0.8907 - val_recall: 0.8907 - val_auc: 0.9530\n",
            "Epoch 2/2\n",
            "1563/1563 [==============================] - 2285s 1s/step - loss: 0.1737 - accuracy: 0.9358 - precision: 0.9358 - recall: 0.9358 - auc: 0.9773 - val_loss: 0.2628 - val_accuracy: 0.8907 - val_precision: 0.8907 - val_recall: 0.8907 - val_auc: 0.9530\n"
          ],
          "name": "stdout"
        }
      ]
    },
    {
      "cell_type": "code",
      "metadata": {
        "colab": {
          "base_uri": "https://localhost:8080/",
          "height": 312
        },
        "id": "nSRkOy3rnWQK",
        "outputId": "f91f2db4-9ea5-491d-ac22-f21e8477f218"
      },
      "source": [
        "plt.figure(figsize=(15, 10))\n",
        "plt.subplot(221)\n",
        "plt.plot(history.history['loss'], label='train_loss')\n",
        "plt.plot(history.history['val_loss'], label='val_loss')\n",
        "plt.legend()\n",
        "\n",
        "plt.subplot(222)\n",
        "plt.plot(history.history['accuracy'], label='train_acc')\n",
        "plt.plot(history.history['val_accuracy'], label='val_acc')\n",
        "plt.legend()"
      ],
      "execution_count": 29,
      "outputs": [
        {
          "output_type": "execute_result",
          "data": {
            "text/plain": [
              "<matplotlib.legend.Legend at 0x7f1499a14fd0>"
            ]
          },
          "metadata": {
            "tags": []
          },
          "execution_count": 29
        },
        {
          "output_type": "display_data",
          "data": {
            "image/png": "[encoded data removed]",
            "text/plain": [
              "<Figure size 1080x720 with 2 Axes>"
            ]
          },
          "metadata": {
            "tags": [],
            "needs_background": "light"
          }
        }
      ]
    },
    {
      "cell_type": "markdown",
      "metadata": {
        "id": "N26YKdgu9QV3"
      },
      "source": [
        "# Evaluation"
      ]
    },
    {
      "cell_type": "code",
      "metadata": {
        "id": "sjO5KR959qHR"
      },
      "source": [
        "from sklearn.metrics import classification_report, confusion_matrix, matthews_corrcoef"
      ],
      "execution_count": 32,
      "outputs": []
    },
    {
      "cell_type": "code",
      "metadata": {
        "colab": {
          "base_uri": "https://localhost:8080/"
        },
        "id": "iqGYVSOd9SkO",
        "outputId": "9412a785-21a3-4174-fc6a-e9cf2e525a83"
      },
      "source": [
        "model.evaluate(norm_test_ds)"
      ],
      "execution_count": 30,
      "outputs": [
        {
          "output_type": "stream",
          "text": [
            "1560/1560 [==============================] - 547s 350ms/step - loss: 0.2628 - accuracy: 0.8907 - precision: 0.8907 - recall: 0.8907 - auc: 0.9530\n"
          ],
          "name": "stdout"
        },
        {
          "output_type": "execute_result",
          "data": {
            "text/plain": [
              "[0.2627659738063812,\n",
              " 0.8907414674758911,\n",
              " 0.8907414674758911,\n",
              " 0.8907414674758911,\n",
              " 0.9530277252197266]"
            ]
          },
          "metadata": {
            "tags": []
          },
          "execution_count": 30
        }
      ]
    },
    {
      "cell_type": "code",
      "metadata": {
        "id": "qE2Xmouq9Ymw"
      },
      "source": [
        "y_pred = model.predict(norm_test_ds)"
      ],
      "execution_count": 31,
      "outputs": []
    },
    {
      "cell_type": "code",
      "metadata": {
        "colab": {
          "base_uri": "https://localhost:8080/"
        },
        "id": "qrZDd322Bxs6",
        "outputId": "44b44318-25c5-4958-8957-58212d3cffc9"
      },
      "source": [
        "print(classification_report(valid_labels, y_pred.argmax(axis=1)))"
      ],
      "execution_count": 35,
      "outputs": [
        {
          "output_type": "stream",
          "text": [
            "              precision    recall  f1-score   support\n",
            "\n",
            "           0       0.89      0.89      0.89     12474\n",
            "           1       0.89      0.89      0.89     12476\n",
            "\n",
            "    accuracy                           0.89     24950\n",
            "   macro avg       0.89      0.89      0.89     24950\n",
            "weighted avg       0.89      0.89      0.89     24950\n",
            "\n"
          ],
          "name": "stdout"
        }
      ]
    },
    {
      "cell_type": "code",
      "metadata": {
        "colab": {
          "base_uri": "https://localhost:8080/",
          "height": 609
        },
        "id": "yF072eXaCCqK",
        "outputId": "787eedb3-227f-4cef-9eea-0287b7cc120f"
      },
      "source": [
        "plt.figure(figsize=(15, 10))\n",
        "sns.heatmap(confusion_matrix(valid_labels, y_pred.argmax(axis=1)), fmt='3', annot=True, xticklabels=['neg', 'pos'], yticklabels=['neg', 'pos'])"
      ],
      "execution_count": 38,
      "outputs": [
        {
          "output_type": "execute_result",
          "data": {
            "text/plain": [
              "<matplotlib.axes._subplots.AxesSubplot at 0x7f14978c91d0>"
            ]
          },
          "metadata": {
            "tags": []
          },
          "execution_count": 38
        },
        {
          "output_type": "display_data",
          "data": {
            "image/png": "[encoded data removed]",
            "text/plain": [
              "<Figure size 1080x720 with 2 Axes>"
            ]
          },
          "metadata": {
            "tags": [],
            "needs_background": "light"
          }
        }
      ]
    },
    {
      "cell_type": "code",
      "metadata": {
        "colab": {
          "base_uri": "https://localhost:8080/"
        },
        "id": "YNqPsL_QCfdV",
        "outputId": "33b21621-f5af-4852-c843-1a9d49bf8eb7"
      },
      "source": [
        "print('MCC: {}%'.format(round(matthews_corrcoef(valid_labels, y_pred.argmax(axis=1)) * 100, 2)))"
      ],
      "execution_count": 43,
      "outputs": [
        {
          "output_type": "stream",
          "text": [
            "MCC: 78.15%\n"
          ],
          "name": "stdout"
        }
      ]
    }
  ]
}